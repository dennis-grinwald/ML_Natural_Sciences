{
 "cells": [
  {
   "cell_type": "markdown",
   "metadata": {},
   "source": [
    "## Before submitting:\n",
    "\n",
    "1. Fill your name and studet id number below:\n",
    "\n",
    "2. Please submit only the `*.pdf` file.\n",
    "\n",
    "3. Make sure you fill in any place that says `YOUR CODE HERE` or `YOUR ANSWER HERE`. \n"
   ]
  },
  {
   "cell_type": "code",
   "execution_count": 1,
   "metadata": {},
   "outputs": [],
   "source": [
    "STUDENT_NAME = \"Dennis Grinwald\"\n",
    "STUDENT_ID = \"406516\""
   ]
  },
  {
   "cell_type": "markdown",
   "metadata": {},
   "source": [
    "# Exercise Sheet 2: Bioinformatics\n",
    "\n",
    "This second exercise sheet is about two common approaches in BCI for processing and analysing of the EEG (electroencephalogram) data. "
   ]
  },
  {
   "cell_type": "markdown",
   "metadata": {},
   "source": [
    "## 1. Biology (25 P)"
   ]
  },
  {
   "cell_type": "markdown",
   "metadata": {},
   "source": [
    "__1.1__ Please describe the human genome. __(10 P)__"
   ]
  },
  {
   "cell_type": "markdown",
   "metadata": {},
   "source": [
    "### Answer 1.1\n",
    "\n",
    "The human genome comprises the complete information needed to build and maintain(e.g. through proteins) an organism as we know it. \n",
    "\n",
    "More specifically it comprises the complete set of DNA, which itself consists of pairs(A-T, and C-G, correspondingly) of the 4 bases:\n",
    "1. A = Adenine\n",
    "2. C = Cytosine\n",
    "3. T = Thymine\n",
    "4. G = Guanine ,\n",
    "\n",
    "which together built a double-helix structure.\n",
    "The entire DNA resides in the nucleus of every cell.\n",
    "\n",
    "The total number of bases contained in the human genome is estimated at 3.2 billion in total."
   ]
  },
  {
   "cell_type": "markdown",
   "metadata": {},
   "source": [
    "__1.2__ Please describe the process of the protein biosynthesis. __(15 P)__  "
   ]
  },
  {
   "cell_type": "markdown",
   "metadata": {},
   "source": [
    "### Answer 1.2\n",
    "\n",
    "The function of the protein biosynthesis is to decode the information about certain genes in the DNA, that serve as instructions for building up amino acids and further proteins.\n",
    "\n",
    "In particular the protein biosynthesis comprises the following major steps:\n",
    "\n",
    "1. Transcription Step:\n",
    "During this step the double helix(DNA) is unwound, and, using one strand of the double helix, a complementary messenger-RNA(mRNA) strand is built(Transcription). Specific combinations of bases(promoter regions, e.g. TATA-Box) signalize the start, and a other regions(stop-codon) signalize the end of the Transcription section.\n",
    "\n",
    "2. Splice Step:\n",
    "The transcripted mRNA consists of exons and introns, which are again just specific base combinations. Whereas the Introns are actually used for the future translation step, exons are more like placeholders that are useless for that particular amino acid creation. During the splicing steps these exons are cut out, and the introns are stacked together.\n",
    "\n",
    "3. Translation Step:\n",
    "During this step the sliced, and stacked m-RNA strands leave the nucleus of the cell and the get translated into amino acids, which are attached together to build a protein. The strand, which comes out of the Translation step is called tRNA."
   ]
  },
  {
   "cell_type": "markdown",
   "metadata": {},
   "source": [
    "## 2. Machine Learning (25 P)"
   ]
  },
  {
   "cell_type": "markdown",
   "metadata": {},
   "source": [
    "__2.1__ Assume that we have a binary classification problem, where a sample belong to the either the +1 class if there exist a splice site in the sample or otherwise to the -1 class. Now, we have given some DNA sequences of length $L$ with labels, $x_i\\in \\{A,C,G,T\\}^L, \\ y_i \\in \\{-1,1\\}$.\n",
    "Please describe an arbitraty process of how you get from your given data to your final machine learning algorithm, that can classify between the two classes. __(15 P)__"
   ]
  },
  {
   "cell_type": "markdown",
   "metadata": {},
   "source": [
    "### Answer 2.1\n",
    "Steps to get from data to machine learning algorithm:\n",
    "\n",
    "1. Preprocess the data:\n",
    "On the hand this includes removing invalid values, e.g: None-values, invalid symbols etc., and on the other hand this means representing the data in a format, that is useable by Machine Learning Algorithms. For example: If our dataset comprises of string data, we would want to transform it to a numeric representation. In our DNA-sequence example we could for example one-hot encode it, to get a numerical representation of the training data\n",
    "\n",
    "\n",
    "2. Train the Classifier:\n",
    "Use the preprocessed training data and the according label, to train a learning algorithm, e.g. SVM. During training the classifier learns to make use of patterns in the input data, that make it be classifiable according to it's class. In our DNA-string sequence example this could be a certain combination of consecutive bases.\n",
    "\n",
    "\n",
    "3. Classify new data\n",
    "Use the trained classifier to classify the new \"arriving data\". Here it's imported to apply the same operations as in step 1 to the data, before classifying it."
   ]
  },
  {
   "cell_type": "markdown",
   "metadata": {},
   "source": [
    "__2.2__ Please explain why the explanation of a trained classifier is often mandatory. __(10 P)__"
   ]
  },
  {
   "cell_type": "markdown",
   "metadata": {},
   "source": [
    "### Answer 2.2\n",
    "The explanation of a trained classifier is important in order to screen on what parameters the model has chosen to classify a certain data sample for a specific class. In an extreme case, where there is a lot of noisy input data, it could be the case that the classifier learns all the noise. This would lead to bad prediction performance on new incoming data.\n",
    "\n",
    "I a sensitive scenarion, e.g: an autonomous vehicle on the streets this could result to a hazardous situation, where the classifier predicts a certain situation wrongly, because of it's \"noisy\" learned representation of the world, induced through the training data."
   ]
  },
  {
   "cell_type": "markdown",
   "metadata": {},
   "source": [
    "## 2. Weighted Degree Kernel (15 P)"
   ]
  },
  {
   "cell_type": "markdown",
   "metadata": {},
   "source": [
    "### The weighted-degree kernel, defined as\n",
    "\\begin{equation}\\label{wd-kernel}\n",
    "k(x,x')=\\sum\\limits_{l=1}^{k}\\beta_l\\sum\\limits_{j=1}^{L-l+1}\\mathbb{I}\\{x[j]^l=x'[j]^l\\}\\thinspace,\n",
    "\\end{equation}\n",
    "breaks two DNA sequences $x$ and $x'$ of length $L$ into all possible subsequences of length $l\\leq L$ starting at position $j$, denoted by $x[j]^l$ and $x'[j]^l$, respectively, where $\\beta_l:=2\\frac{d-l+1}{d(d+1)}$ is the weight of the $l$-mer length.\n",
    "The kernel value $k(x,x')$ is then obtained by counting the number of matching subsequences, the so-called \\emph{positional oligomers} (POs), when traversing the positions $j=1,\\ldots,L-l+1$. "
   ]
  },
  {
   "cell_type": "markdown",
   "metadata": {},
   "source": [
    "__2.1__ Please compute the kernel value for the following two DNA sequences for $k=4$. __(15 P)__ "
   ]
  },
  {
   "cell_type": "markdown",
   "metadata": {},
   "source": [
    "<h3 align=\"center\"> $x = AACTGGTATACTTTTCGATTCCATCAG$</h3>\n",
    "<h3 align=\"center\"> $x'= ACCTTTTATACGGTTACTTGCCAGAAT$</h3>"
   ]
  },
  {
   "cell_type": "code",
   "execution_count": 17,
   "metadata": {},
   "outputs": [],
   "source": [
    "import numpy as np\n",
    "from scipy.spatial.distance import cdist,pdist,squareform\n",
    "import time"
   ]
  },
  {
   "cell_type": "code",
   "execution_count": 18,
   "metadata": {},
   "outputs": [],
   "source": [
    "# compute betas, usually only needed to be computed once\n",
    "def computeBetas(degree):\n",
    "    betas = [(2*(degree+1-k) / (degree*(degree+1))) for k in range(1,degree+1)] \n",
    "    \n",
    "    return betas\n",
    "\n",
    "# Compute the weighted degree for 2 data points\n",
    "# Make use of BLOCK-Implementation as introduced in lecture\n",
    "def computeWDPair(x1,x2,betas,degree):\n",
    "    \n",
    "    diff = np.array(x1==x2)*1\n",
    "    idx = np.where(diff!=0)[0]\n",
    "    slices = np.split(diff[idx],np.where(np.diff(idx)!=1)[0]+1)\n",
    "    slices = sorted(slices,key=len)\n",
    "    \n",
    "    summ = 0\n",
    "    for d in range(1,degree+1):\n",
    "        \n",
    "        beta = betas[d-1]\n",
    "        \n",
    "        for s in slices:\n",
    "            s_len = s.shape[0] \n",
    "            if s_len >= d:\n",
    "                summ += beta * (1 + s_len-d)\n",
    "                \n",
    "    return summ"
   ]
  },
  {
   "cell_type": "code",
   "execution_count": 19,
   "metadata": {},
   "outputs": [
    {
     "name": "stdout",
     "output_type": "stream",
     "text": [
      "Kernel Value for the given sequences is: 9.399999999999997\n"
     ]
    }
   ],
   "source": [
    "x1 = np.array([char for char in \"AACTGGTATACTTTTCGATTCCATCAG\"])\n",
    "x2 = np.array([char for char in \"ACCTTTTATACGGTTACTTGCCAGAAT\"])\n",
    "\n",
    "k = 4\n",
    "\n",
    "train_seq_length = x1.shape[0]\n",
    "betas = computeBetas(k)\n",
    "weightedDegreeSumm = computeWDPair(x1,x2,betas,k)\n",
    "\n",
    "print(\"Kernel Value for the given sequences is: {}\".format(weightedDegreeSumm))"
   ]
  },
  {
   "cell_type": "markdown",
   "metadata": {},
   "source": [
    "## 3. Perform Kernel Computation and Classification (60 P)"
   ]
  },
  {
   "cell_type": "markdown",
   "metadata": {},
   "source": [
    "__3.1__ Load the DNA splice data the folder splice_data. __(5 P)__\n",
    "\n",
    "Xtrain = \n",
    "Ytrain =\n",
    "Xtest =\n",
    "Ytest ="
   ]
  },
  {
   "cell_type": "code",
   "execution_count": 20,
   "metadata": {},
   "outputs": [],
   "source": [
    "### IMPORT LIBRARIES ###\n",
    "import matplotlib.pyplot as plt"
   ]
  },
  {
   "cell_type": "code",
   "execution_count": 21,
   "metadata": {},
   "outputs": [],
   "source": [
    "Xtrain = np.loadtxt(\"/home/dg/Dropbox/TUB/SoSe19/ML_SC/hw2/splice-train-data.txt\",dtype=str)\n",
    "Ytrain = np.loadtxt(\"/home/dg/Dropbox/TUB/SoSe19/ML_SC/hw2/splice-train-label.txt\")\n",
    "Xtest = np.loadtxt(\"/home/dg/Dropbox/TUB/SoSe19/ML_SC/hw2/splice-test-data.txt\",dtype=str) \n",
    "Ytest = np.loadtxt(\"/home/dg/Dropbox/TUB/SoSe19/ML_SC/hw2/splice-test-label.txt\") "
   ]
  },
  {
   "cell_type": "markdown",
   "metadata": {},
   "source": [
    "__3.2__ Compute the length of the DNA sequences in the train and test set and the number of positive and negative samples in the training data. Note that a DNA sequence only consists of nucleotids $\\{A,C,G,T\\}$. __(5 P)__"
   ]
  },
  {
   "cell_type": "code",
   "execution_count": 22,
   "metadata": {},
   "outputs": [
    {
     "name": "stdout",
     "output_type": "stream",
     "text": [
      "Basic Data stats:\n",
      "=================\n",
      "No. training data samples: 1000\n",
      "No. training data labels: 1000\n",
      "No. test data samples: 2175\n",
      "No. test data labels: 2175\n",
      "\n",
      "Training sample sequence length = 60\n",
      "Test sample sequence length = 60\n"
     ]
    },
    {
     "data": {
      "image/png": "[encoded data removed]",
      "text/plain": [
       "<Figure size 1440x720 with 2 Axes>"
      ]
     },
     "metadata": {
      "needs_background": "light"
     },
     "output_type": "display_data"
    }
   ],
   "source": [
    "NumTrainSamples = Xtrain.shape[0]\n",
    "NumTrainLabels = Ytrain.shape[0]\n",
    "NumTestSamples = Xtest.shape[0]\n",
    "NumTestLabels = Ytest.shape[0]\n",
    "\n",
    "train_seq_length = len(Xtrain[0])\n",
    "test_seq_length = len(Xtest[0])\n",
    "\n",
    "pos_train_labels = Ytrain[Ytrain==1].shape[0]\n",
    "pos_test_labels = Ytest[Ytest==-1].shape[0]\n",
    "\n",
    "print(\"Basic Data stats:\")\n",
    "print(\"=================\")\n",
    "print(f\"No. training data samples: {NumTrainSamples}\")\n",
    "print(f\"No. training data labels: {NumTrainLabels}\")\n",
    "print(f\"No. test data samples: {NumTestSamples}\")\n",
    "print(f\"No. test data labels: {NumTestLabels}\\n\")\n",
    "print(f\"Training sample sequence length = {train_seq_length}\")\n",
    "print(f\"Test sample sequence length = {test_seq_length}\")\n",
    "\n",
    "\n",
    "fig, (ax1,ax2) = plt.subplots(1,2,figsize=(20,10))\n",
    "ax1.bar(0,pos_train_labels,label=\"Positive class\")\n",
    "ax1.bar(1,NumTrainLabels,label=\"Total number of training labels\")\n",
    "ax1.bar(-1,NumTrainLabels-pos_train_labels,label=\"Negative class\")\n",
    "ax1.text(-1.05,NumTrainLabels-pos_train_labels + 10,str(NumTrainLabels-pos_train_labels),color=\"g\")\n",
    "ax1.text(-0.05,pos_train_labels + 10,str(pos_train_labels),color=\"b\")\n",
    "ax1.text(0.95,NumTrainLabels + 10,str(NumTrainLabels),color=\"orange\")\n",
    "ax1.get_xaxis().set_visible(False)\n",
    "ax1.set_ylabel(\"Number of labels\")\n",
    "ax1.set_title(\"Training data class-ratio \")\n",
    "ax1.legend()\n",
    "\n",
    "ax2.bar(0,pos_test_labels,label=\"Positive class\")\n",
    "ax2.bar(1,NumTestLabels,label=\"Total number of test labels\")\n",
    "ax2.bar(-1,NumTestLabels-pos_test_labels,label=\"Negative class\")\n",
    "\n",
    "ax2.text(-1.05,NumTestLabels-pos_test_labels + 10,str(NumTestLabels-pos_test_labels),color=\"g\")\n",
    "ax2.text(-0.05,pos_test_labels + 10,str(pos_test_labels),color=\"b\")\n",
    "ax2.text(0.95,NumTestLabels + 10,str(NumTestLabels),color=\"orange\")\n",
    "\n",
    "ax2.get_xaxis().set_visible(False)\n",
    "ax2.set_ylabel(\"Number of labels\")\n",
    "ax2.set_title(\"Test data class-ratio \")\n",
    "ax2.legend()\n",
    "\n",
    "plt.show()"
   ]
  },
  {
   "cell_type": "markdown",
   "metadata": {},
   "source": [
    "__3.3__ Implement the weighted degree kernel function that computes the train and test kernel matrices. Note that you should find an efficient way for the implementation - for loops are not efficient here!   __(20 P)__"
   ]
  },
  {
   "cell_type": "code",
   "execution_count": 26,
   "metadata": {},
   "outputs": [],
   "source": [
    "# Transform data matrices to vectors\n",
    "Xtrain = np.array([list(row) for row in Xtrain])\n",
    "Xtest = np.array([list(row) for row in Xtest])"
   ]
  },
  {
   "cell_type": "code",
   "execution_count": 27,
   "metadata": {},
   "outputs": [],
   "source": [
    "def weighted_degree_kernel_matrix(Xtrain,Xtest,degree):\n",
    "    \n",
    "    # compute betas once\n",
    "    betas = computeBetas(degree)\n",
    "    \n",
    "    # Generally faster than looping through the single rows\n",
    "    Ktrain = squareform(pdist(Xtrain, metric=lambda r1,r2: computeWDPair(r1,r2,betas,degree)))\n",
    "    Ktest = cdist(Xtest, Xtrain, metric=lambda r1,r2: computeWDPair(r1,r2,betas,degree))\n",
    "    \n",
    "    # Fill diagonal of Ktrain - squareform(pdist(Xtrain)) returns 0's as diagonal values\n",
    "    for ix1,x1 in enumerate(Xtrain):\n",
    "        res = computeWDPair(x1,x1,betas,degree)\n",
    "        Ktrain[ix1][ix1] = res\n",
    "                \n",
    "    \n",
    "    return Ktrain,Ktest"
   ]
  },
  {
   "cell_type": "markdown",
   "metadata": {},
   "source": [
    "__3.4__ Train a Support Vector Machine (SVM) by using the weighted degree kernel matrix from above. __(10 P)__"
   ]
  },
  {
   "cell_type": "code",
   "execution_count": 28,
   "metadata": {},
   "outputs": [
    {
     "name": "stdout",
     "output_type": "stream",
     "text": [
      "Computation of degree: 0 took: 94.14272689819336s\n",
      "degree: 1 training accuracy: 0.994 test accuracy: 0.916\n",
      "Computation of degree: 1 took: 99.34064245223999s\n",
      "degree: 2 training accuracy: 1.000 test accuracy: 0.939\n",
      "Computation of degree: 2 took: 101.29955911636353s\n",
      "degree: 3 training accuracy: 1.000 test accuracy: 0.952\n",
      "Computation of degree: 3 took: 109.89188647270203s\n",
      "degree: 4 training accuracy: 1.000 test accuracy: 0.961\n",
      "Total time: 404.6748149394989\n"
     ]
    }
   ],
   "source": [
    "from sklearn.metrics import balanced_accuracy_score\n",
    "from sklearn import svm\n",
    "\n",
    "max_degree = 4\n",
    "total = 0\n",
    "for i in range(max_degree):\n",
    "    \n",
    "    start = time.time()\n",
    "    Ktrain, Ktest = weighted_degree_kernel_matrix(Xtrain, Xtest, i+1)\n",
    "    \n",
    "    # Fit the model on the training data\n",
    "    model = svm.SVC(kernel=\"precomputed\")\n",
    "    model = model.fit(Ktrain,Ytrain)\n",
    "    \n",
    "    # Predictions using the train data\n",
    "    Ttrain = model.predict(Ktrain)\n",
    "    # Predictions using the test data\n",
    "    Ttest = model.predict(Ktest)\n",
    "    \n",
    "    end = time.time()-start\n",
    "    total += end\n",
    "    \n",
    "    print(\"Computation of degree: {} took: {}s\".format(i,end))\n",
    "        \n",
    "    print('degree: %d training accuracy: %.3f test accuracy: %.3f'%(i+1,balanced_accuracy_score(Ytrain,Ttrain),balanced_accuracy_score(Ytest,Ttest)))\n",
    "\n",
    "print(\"Total time: {}\".format(total))"
   ]
  },
  {
   "cell_type": "markdown",
   "metadata": {},
   "source": [
    "__3.5__ Implement a function for the one-hot encoding of a DNA sequence. __(10 P)__"
   ]
  },
  {
   "cell_type": "code",
   "execution_count": 29,
   "metadata": {},
   "outputs": [],
   "source": [
    "def oneHotEnc(X):\n",
    "    # BUILD THE ONE_HOT_ENCODER_DICTIONARY\n",
    "    one_hot_dict = dict()\n",
    "    for V,K in enumerate(np.unique(Xtest)):\n",
    "        tmp_one_hot_vec = np.zeros(len(np.unique(Xtest)))\n",
    "        tmp_one_hot_vec[V] = 1\n",
    "        one_hot_dict[K] = tmp_one_hot_vec\n",
    "    \n",
    "    # ENCODE THE ARRAY\n",
    "    \n",
    "    # FOR SINGLE VECTOR INPUT\n",
    "    try:\n",
    "        XoH = np.ravel([one_hot_dict[e] for e in X])\n",
    "        \n",
    "    # FOR MATRIX INPUT\n",
    "    except:\n",
    "        XoH = np.vstack( [np.ravel([ np.hstack( one_hot_dict[e]  ) for e in r  ])  for r in X] )\n",
    "    \n",
    "    return XoH"
   ]
  },
  {
   "cell_type": "markdown",
   "metadata": {},
   "source": [
    "__3.6__ Train a SVM with an RBF kernel using the oneHotEnc of the DNA data. __(10 P)__"
   ]
  },
  {
   "cell_type": "code",
   "execution_count": 30,
   "metadata": {},
   "outputs": [
    {
     "name": "stdout",
     "output_type": "stream",
     "text": [
      "one-hot encoding: training accuracy: 0.952 test accuracy: 0.942\n"
     ]
    }
   ],
   "source": [
    "from sklearn import svm\n",
    "from sklearn.metrics.pairwise import rbf_kernel\n",
    "from sklearn.metrics import balanced_accuracy_score\n",
    "\n",
    "# PREPROCESSING OF THE DATA\n",
    "Xtrain = oneHotEnc(Xtrain)\n",
    "Xtest = oneHotEnc(Xtest)\n",
    "\n",
    "Ktrain = rbf_kernel(Xtrain, Xtrain)\n",
    "Ktest = rbf_kernel(Xtest,Xtrain)\n",
    "\n",
    "model = svm.SVC(kernel=\"precomputed\")\n",
    "model = model.fit(Ktrain,Ytrain)\n",
    "\n",
    "Ttrain = model.predict(Ktrain)\n",
    "Ttest = model.predict(Ktest)\n",
    "\n",
    "print('one-hot encoding: training accuracy: %.3f test accuracy: %.3f'%(balanced_accuracy_score(Ytrain,Ttrain),balanced_accuracy_score(Ytest,Ttest)))"
   ]
  },
  {
   "cell_type": "code",
   "execution_count": null,
   "metadata": {},
   "outputs": [],
   "source": []
  }
 ],
 "metadata": {
  "kernelspec": {
   "display_name": "Python 2",
   "language": "python",
   "name": "python2"
  },
  "language_info": {
   "codemirror_mode": {
    "name": "ipython",
    "version": 3
   },
   "file_extension": ".py",
   "mimetype": "text/x-python",
   "name": "python",
   "nbconvert_exporter": "python",
   "pygments_lexer": "ipython3",
   "version": "3.6.7"
  }
 },
 "nbformat": 4,
 "nbformat_minor": 2
}
